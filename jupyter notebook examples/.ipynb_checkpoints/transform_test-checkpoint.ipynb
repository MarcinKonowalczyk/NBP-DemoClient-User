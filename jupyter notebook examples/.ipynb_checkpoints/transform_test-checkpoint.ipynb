{
 "cells": [
  {
   "cell_type": "code",
   "execution_count": null,
   "metadata": {},
   "outputs": [],
   "source": [
    "import os\n",
    "import sys\n",
    "parent = os.path.abspath(os.path.join('./', os.pardir))\n",
    "DIR = 'hardcoded plates'\n",
    "DIR2 = os.path.join(parent,DIR)\n",
    "sys.path.insert(0, parent)\n",
    "im_dirs = list(os.path.join(DIR2, file) for file in os.listdir(DIR2) if file.endswith('.jpg'))\n",
    "im_dirs"
   ]
  },
  {
   "cell_type": "code",
   "execution_count": null,
   "metadata": {},
   "outputs": [],
   "source": [
    "from matplotlib import pyplot as plt\n",
    "\n",
    "from nbp_helper_funs import *\n",
    "from itertools import product"
   ]
  },
  {
   "cell_type": "code",
   "execution_count": null,
   "metadata": {
    "collapsed": true
   },
   "outputs": [],
   "source": [
    "# im_dirs = ('diff1', 'diff2', 'diff3', 'diff4')\n",
    "# im_dirs = ('./testImages/' + im + '.jpg' for im in im_dirs)\n",
    "ims = list(cropContourImg(openGrayScale(im)) for im in im_dirs)\n",
    "# for im in ims:\n",
    "#     plt.imshow(pil2np(im), cmap='gray')\n",
    "#     plt.show()"
   ]
  },
  {
   "cell_type": "code",
   "execution_count": null,
   "metadata": {
    "collapsed": true
   },
   "outputs": [],
   "source": [
    "threshold=0.5\n",
    "pad=10\n",
    "blur=0\n",
    "im = ims[0]\n",
    "ims_blur = list(gaussBlur(im, blur) for im in ims)\n",
    "ones = list(pil2np(im)>0.5 for im in ims_blur)\n",
    "# for im in ones:\n",
    "#     plt.imshow(im, cmap='gray')\n",
    "#     plt.show()"
   ]
  },
  {
   "cell_type": "code",
   "execution_count": null,
   "metadata": {},
   "outputs": [],
   "source": [
    "Cs = list(getCorners(im) for im in ims)"
   ]
  },
  {
   "cell_type": "code",
   "execution_count": null,
   "metadata": {},
   "outputs": [],
   "source": [
    "# h, w = im.shape\n",
    "h, w = 60, 280\n",
    "for i, im in enumerate(ims):\n",
    "    c = Cs[i]\n",
    "    plt.imshow(pil2np(im), cmap='gray')\n",
    "    for p in c: plt.plot(p[1],p[0],'o')\n",
    "    plt.show()\n",
    "    \n",
    "    c2 = list((p[1],p[0]) for p in c)\n",
    "    coeffs = getTransformCoeffs([(0, 0), (w,0), (w,h), (0,h)],c2)\n",
    "    im_straight = im.transform((w, h), Image.PERSPECTIVE, coeffs, Image.BICUBIC)\n",
    "#     im_straight.save(im_dirs[i][:-4] + '_straight.jpg', \"JPEG\")\n",
    "    if not np.mod(0,100): print(i, im_dirs[i])\n",
    "    plt.imshow(pil2np(im_straight), cmap='gray')\n",
    "    plt.show()"
   ]
  },
  {
   "cell_type": "code",
   "execution_count": null,
   "metadata": {},
   "outputs": [],
   "source": [
    "# h, w = im.shape\n",
    "h, w = 60, 280\n",
    "for i, im in enumerate(ones):\n",
    "    c = Cs[i]\n",
    "#     plt.imshow(pil2np(im), cmap='gray')\n",
    "#     for p in c: plt.plot(p[1],p[0],'o')\n",
    "#     plt.show()\n",
    "    \n",
    "    c2 = list((p[1],p[0]) for p in c)\n",
    "    coeffs = getTransformCoeffs([(0, 0), (w,0), (w,h), (0,h)],c2)\n",
    "    im_straight = np2pil(im).transform((w, h), Image.PERSPECTIVE, coeffs, Image.BICUBIC)\n",
    "#     im_straight.save(im_dirs[i][:-4] + '_straight2.jpg', \"JPEG\")\n",
    "    if not np.mod(0,100): print(i, im_dirs[i])\n",
    "#     plt.imshow(pil2np(im_straight), cmap='gray')\n",
    "#     plt.show()"
   ]
  },
  {
   "cell_type": "code",
   "execution_count": null,
   "metadata": {},
   "outputs": [],
   "source": [
    "c = getCorners(im)\n",
    "c"
   ]
  },
  {
   "cell_type": "code",
   "execution_count": null,
   "metadata": {},
   "outputs": [],
   "source": [
    "im = ims[1]\n",
    "im"
   ]
  }
 ],
 "metadata": {
  "kernelspec": {
   "display_name": "Python 3",
   "language": "python",
   "name": "python3"
  },
  "language_info": {
   "codemirror_mode": {
    "name": "ipython",
    "version": 3
   },
   "file_extension": ".py",
   "mimetype": "text/x-python",
   "name": "python",
   "nbconvert_exporter": "python",
   "pygments_lexer": "ipython3",
   "version": "3.6.3"
  }
 },
 "nbformat": 4,
 "nbformat_minor": 2
}

{
 "cells": [
  {
   "cell_type": "code",
   "execution_count": 1,
   "metadata": {
    "collapsed": true
   },
   "outputs": [],
   "source": [
    "import os\n",
    "import sys\n",
    "parent = os.path.abspath(os.path.join('./', os.pardir))\n",
    "sys.path.insert(0, parent) # Add parent dirrectory to temporary path for imports\n",
    "fontPath = os.path.abspath(os.path.join(parent,'UKNumberPlate.ttf'))\n",
    "\n",
    "from nbp_helper_funs import *\n",
    "from matplotlib import pyplot as plt"
   ]
  },
  {
   "cell_type": "markdown",
   "metadata": {},
   "source": [
    "## Explanation\n",
    "\n",
    "It currently takes a lot of time to generate the randomly distorted plate images for the bots to compete against. We thought that we could speed this up by using some of the code we've writte anyway. Here we try to figure out how to simulate the rotation of a 2D image in 3D space."
   ]
  },
  {
   "cell_type": "code",
   "execution_count": 30,
   "metadata": {},
   "outputs": [
    {
     "data": {
      "image/png": "[encoded data removed]",
      "text/plain": [
       "<matplotlib.figure.Figure at 0x11dc183c8>"
      ]
     },
     "metadata": {},
     "output_type": "display_data"
    }
   ],
   "source": [
    "height =  int(60*45/71)\n",
    "plate = pil2np(randomPlateImage(height, fontPath=fontPath))\n",
    "\n",
    "h,w = plate.shape\n",
    "plt.imshow(plate, cmap='gray')\n",
    "plt.show()"
   ]
  },
  {
   "cell_type": "code",
   "execution_count": 198,
   "metadata": {
    "collapsed": true
   },
   "outputs": [],
   "source": [
    "angles = [0, np.pi/4, 0] # alpha, beta, gamma angles of rotation\n",
    "\n",
    "c = list(np.cos(angle) for angle in angles)\n",
    "s = list(np.sin(angle) for angle in angles)\n",
    "\n",
    "# Three rotation matrices for three planes\n",
    "R1 = np.matrix([[ c[0] , -s[0] ,  0    ,  0   ],\n",
    "                [ s[0] ,  c[0] ,  0    ,  0   ],\n",
    "                [ 0    ,  0    ,  1    ,  0   ],\n",
    "                [ 0    ,  0    ,  0    ,  1   ]])\n",
    "\n",
    "R2 = np.matrix([[ c[1] ,  0    , -s[1] ,  0   ],\n",
    "                [ 0    ,  1    ,  0    ,  0   ],\n",
    "                [ s[1] ,  0    ,  c[1] ,  0   ],\n",
    "                [ 0    ,  0    ,  0    ,  1   ]])\n",
    "\n",
    "R3 = np.matrix([[ 1    ,  0    ,  0    ,  0   ],\n",
    "                [ 0    ,  c[2] , -s[2] ,  0   ],\n",
    "                [ 0    ,  s[2] ,  c[2] ,  0   ],\n",
    "                [ 0    ,  0    ,  0    ,  1   ]])\n",
    "\n",
    "# Translation matrix\n",
    "T  = np.matrix([[ 1    ,  0    ,  0    , -w/2 ],\n",
    "                [ 0    ,  1    ,  0    , -h/2 ],\n",
    "                [ 0    ,  0    ,  1    ,  0   ],\n",
    "                [ 0    ,  0    ,  0    ,  1   ]])\n",
    "\n",
    "# Projection matrix\n",
    "s = 0.1 # Skew\n",
    "P  = np.matrix([[ 1    ,  0    ,  s    ,  0   ],\n",
    "                [ 0    ,  1    ,  s    ,  0   ]])\n",
    "\n",
    "# Overall transformation matrix\n",
    "# Move origin to center of the image, apply R1, R2 and R3, translate back and finally project\n",
    "A = P*np.linalg.inv(T)*R3*R2*R1*T   "
   ]
  },
  {
   "cell_type": "code",
   "execution_count": 199,
   "metadata": {},
   "outputs": [
    {
     "data": {
      "text/plain": [
       "matrix([[ 1. ,  0. ,  0.1,  0. ],\n",
       "        [ 0. ,  1. ,  0.1,  0. ]])"
      ]
     },
     "execution_count": 199,
     "metadata": {},
     "output_type": "execute_result"
    }
   ],
   "source": [
    "# Corners of the image\n",
    "c = np.matrix([[0, 0, h, h],\n",
    "               [0, w, w, 0],\n",
    "               [0, 0, 0, 0],\n",
    "               [1, 1, 1, 1]])\n",
    "P"
   ]
  },
  {
   "cell_type": "code",
   "execution_count": 200,
   "metadata": {},
   "outputs": [
    {
     "name": "stdout",
     "output_type": "stream",
     "text": [
      "[  1.28564869e+00  -1.46589704e-14  -3.18498293e+01  -9.09090909e-02\n",
      "   1.00000000e+00   1.01363636e+01   2.45788633e-16   1.02259855e-15]\n"
     ]
    }
   ],
   "source": [
    "# Corners of the image\n",
    "c = np.matrix([[0, 0, h, h],\n",
    "               [0, w, w, 0],\n",
    "               [0, 0, 0, 0],\n",
    "               [1, 1, 1, 1]])\n",
    "\n",
    "p1 = list(zip(*np.array(P*c)))\n",
    "p2 = list(zip(*np.array(A*c)))\n",
    "coeffs = getTransformCoeffs(p1,p2)\n",
    "print(coeffs)"
   ]
  },
  {
   "cell_type": "code",
   "execution_count": 202,
   "metadata": {},
   "outputs": [
    {
     "data": {
      "image/png": "[encoded data removed]",
      "text/plain": [
       "<matplotlib.figure.Figure at 0x11da7b128>"
      ]
     },
     "metadata": {},
     "output_type": "display_data"
    }
   ],
   "source": [
    "im = np2pil(plate)\n",
    "coeffs = getTransformCoeffs(p1,p2)\n",
    "im = im.transform((w,h), Image.PERSPECTIVE, coeffs, Image.BICUBIC)\n",
    "\n",
    "plt.rcParams[\"figure.figsize\"] = (16,5)\n",
    "plt.imshow(pil2np(im), cmap='gray')\n",
    "plt.show()"
   ]
  }
 ],
 "metadata": {
  "kernelspec": {
   "display_name": "Python 3",
   "language": "python",
   "name": "python3"
  },
  "language_info": {
   "codemirror_mode": {
    "name": "ipython",
    "version": 3
   },
   "file_extension": ".py",
   "mimetype": "text/x-python",
   "name": "python",
   "nbconvert_exporter": "python",
   "pygments_lexer": "ipython3",
   "version": "3.6.3"
  }
 },
 "nbformat": 4,
 "nbformat_minor": 2
}

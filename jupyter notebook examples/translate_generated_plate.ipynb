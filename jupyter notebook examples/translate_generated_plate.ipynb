{
 "cells": [
  {
   "cell_type": "code",
   "execution_count": 5,
   "metadata": {
    "collapsed": false
   },
   "outputs": [],
   "source": [
    "import os\n",
    "import sys\n",
    "parent = os.path.abspath(os.path.join('./', os.pardir))\n",
    "sys.path.insert(0, parent)\n",
    "\n",
    "from nbp_helper_funs import *\n",
    "from matplotlib import pyplot as plt\n",
    "% matplotlib inline\n"
   ]
  },
  {
   "cell_type": "code",
   "execution_count": 6,
   "metadata": {
    "collapsed": false
   },
   "outputs": [
    {
     "data": {
      "image/png": "[encoded data removed]",
      "text/plain": [
       "<matplotlib.figure.Figure at 0x201132639e8>"
      ]
     },
     "metadata": {},
     "output_type": "display_data"
    }
   ],
   "source": [
    "plate_string = 'A555 BFG'\n",
    "width =  int(60*45/71)\n",
    "\n",
    "generated_number_plate = pil2np(getPlate(plate_string, width))\n",
    "plt.imshow(generated_number_plate, cmap='gray')\n",
    "plt.show()"
   ]
  },
  {
   "cell_type": "code",
   "execution_count": 7,
   "metadata": {
    "collapsed": false
   },
   "outputs": [
    {
     "name": "stdout",
     "output_type": "stream",
     "text": [
      "[[ 0.28791597]\n",
      " [ 2.6876414 ]\n",
      " [ 2.0936166 ]]\n",
      "[[ 0.81915204 -0.57357644  0.        ]\n",
      " [ 0.57357644  0.81915204  0.        ]\n",
      " [ 0.          0.          1.        ]]\n"
     ]
    }
   ],
   "source": [
    "t = np.array(5*np.random.rand(3)).reshape(3, 1)\n",
    "print(t)\n",
    "\n",
    "alpha = 35\n",
    "\n",
    "theta = np.radians(alpha)\n",
    "c, s = np.cos(theta), np.sin(theta)\n",
    "R = np.matrix('{} {} {}; {} {} {}; {} {} {}'.format(c, -s, 0, s, c, 0, 0, 0, 1))\n",
    "\n",
    "print(R)"
   ]
  },
  {
   "cell_type": "code",
   "execution_count": 8,
   "metadata": {
    "collapsed": false
   },
   "outputs": [
    {
     "name": "stdout",
     "output_type": "stream",
     "text": [
      "(3, 1)\n",
      "[[-0.62366759]\n",
      " [ 1.13044994]]\n"
     ]
    }
   ],
   "source": [
    "x = t\n",
    "\n",
    "X = R@x\n",
    "print(X.shape)\n",
    "\n",
    "x_2d = X[0:-1]/X[-1]\n",
    "print(x_2d)"
   ]
  },
  {
   "cell_type": "code",
   "execution_count": 9,
   "metadata": {
    "collapsed": false
   },
   "outputs": [
    {
     "name": "stdout",
     "output_type": "stream",
     "text": [
      "[(0.0, 0.0), (0.0, 38.0), (60.0, 38.0), (60.0, 0.0)]\n",
      "[(0.54932966683137852, 1.0638402881732849), (0.17956491494942611, 5.2902707419015726), (6.8528761576783017, 5.8741098238204446), (7.2226409095602548, 1.6476793700921573)]\n"
     ]
    }
   ],
   "source": [
    "def findNewPoints(alpha, corners):\n",
    "    newPoints = []\n",
    "    \n",
    "    t = np.array(10*np.random.rand(3)).reshape(3, 1)\n",
    "    theta = np.radians(alpha)\n",
    "    c, s = np.cos(theta), np.sin(theta)\n",
    "    R = np.matrix('{} {} {}; {} {} {}; {} {} {}'.format(c, -s, 0, s, c, 0, 0, 0, 1))\n",
    "    \n",
    "    for corner in corners:\n",
    "        \n",
    "        x1, y1 = corner\n",
    "        x = np.array([x1, y1]).reshape(2, 1)\n",
    "        x = np.vstack((x, 0))\n",
    "        \n",
    "        X3d = R@x\n",
    "        \n",
    "        X3d += t\n",
    "    \n",
    "        \n",
    "    \n",
    "        x_2d = X3d[0: -1]/X3d[-1]  \n",
    "        tuple_2d = np.squeeze(np.asarray(x_2d))\n",
    "        \n",
    "        tuple_2d = tuple(tuple_2d)\n",
    "            \n",
    "        newPoints.append(tuple_2d)\n",
    "        \n",
    "    return newPoints\n",
    "\n",
    "corners = [(0.0, 0.0), (0.0, float(width)), (60.0, float(width)), (60.0, 0.0)]\n",
    "new_P = findNewPoints(alpha=5, corners=corners)\n",
    "\n",
    "print(corners)\n",
    "print(new_P)\n"
   ]
  },
  {
   "cell_type": "code",
   "execution_count": 11,
   "metadata": {
    "collapsed": false
   },
   "outputs": [
    {
     "data": {
      "image/png": "[encoded data removed]",
      "text/plain": [
       "<matplotlib.figure.Figure at 0x20115f796d8>"
      ]
     },
     "metadata": {},
     "output_type": "display_data"
    }
   ],
   "source": [
    "\n",
    "im = np2pil(generated_number_plate)\n",
    "\n",
    "coeffs = getTransformCoeffs(corners, new_P)\n",
    "im = im.transform((200,100), Image.PERSPECTIVE, coeffs, Image.BICUBIC)\n",
    "\n",
    "plt.imshow(im, cmap='gray')\n",
    "plt.show()\n"
   ]
  },
  {
   "cell_type": "code",
   "execution_count": null,
   "metadata": {
    "collapsed": true
   },
   "outputs": [],
   "source": []
  },
  {
   "cell_type": "code",
   "execution_count": null,
   "metadata": {
    "collapsed": true
   },
   "outputs": [],
   "source": []
  }
 ],
 "metadata": {
  "kernelspec": {
   "display_name": "Python 3",
   "language": "python",
   "name": "python3"
  },
  "language_info": {
   "codemirror_mode": {
    "name": "ipython",
    "version": 3
   },
   "file_extension": ".py",
   "mimetype": "text/x-python",
   "name": "python",
   "nbconvert_exporter": "python",
   "pygments_lexer": "ipython3",
   "version": "3.6.0"
  }
 },
 "nbformat": 4,
 "nbformat_minor": 2
}

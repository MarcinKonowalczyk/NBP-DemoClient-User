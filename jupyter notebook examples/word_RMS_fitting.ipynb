{
 "cells": [
  {
   "cell_type": "code",
   "execution_count": null,
   "metadata": {
    "collapsed": true
   },
   "outputs": [],
   "source": [
    "import os\n",
    "import sys\n",
    "parent = os.path.abspath(os.path.join('./', os.pardir))\n",
    "sys.path.insert(0, parent)\n",
    "\n",
    "from nbp_helper_funs import *\n",
    "from matplotlib import pyplot as plt\n",
    "% matplotlib inline\n",
    "\n",
    "from itertools import product\n",
    "import os\n",
    "import random\n",
    "import string"
   ]
  },
  {
   "cell_type": "code",
   "execution_count": null,
   "metadata": {
    "collapsed": false
   },
   "outputs": [],
   "source": [
    "%load_ext autoreload\n",
    "%autoreload"
   ]
  },
  {
   "cell_type": "code",
   "execution_count": null,
   "metadata": {
    "collapsed": false
   },
   "outputs": [],
   "source": [
    "DIR = os.path.join(parent,'hardcoded plates')\n",
    "im_dirs = list(os.path.join(DIR, file) for file in os.listdir(DIR) if file.endswith('.jpg'))\n",
    "ims = list(openGrayScale(im) for im in im_dirs)    # removed cropContour\n",
    "ims = list(cropContourImg(im, pad=20) for im in ims)\n",
    "ims = list(straightenImage(im, getCorners(im)) for im in ims)\n",
    "ims = list(im.filter(ImageFilter.MedianFilter(5)) for im in ims)\n",
    "ims = list(ImageOps.autocontrast(im, 2) for im in ims)\n",
    "\n",
    "im_dirs\n",
    "len(ims)"
   ]
  },
  {
   "cell_type": "code",
   "execution_count": null,
   "metadata": {
    "collapsed": false
   },
   "outputs": [],
   "source": [
    "def makeRandomPlateString():\n",
    "\n",
    "    plate = ''.join(random.choices(string.ascii_uppercase, k=2)) + ''.join(random.choices(string.digits, k=2)) + ' '\n",
    "    plate += ''.join(random.choices(string.ascii_uppercase, k=3))\n",
    "    \n",
    "    return plate\n",
    "\n",
    "print(makeRandomPlateString())"
   ]
  },
  {
   "cell_type": "code",
   "execution_count": null,
   "metadata": {
    "collapsed": false
   },
   "outputs": [],
   "source": [
    "# plates = loadFromPickle(os.path.join(parent,'test subset','data.pkl'))\n",
    "names = list(os.path.split(im)[1] for im in im_dirs[:])\n",
    "answers = list(name[2:-4].replace('-', ' ') for name in names)\n",
    "\n",
    "print(answers)\n",
    "print(len(answers))\n",
    "\n",
    "# make plates\n",
    "plates = []\n",
    "for i in range(90):\n",
    "    plates.append(makeRandomPlateString())\n",
    "\n",
    "\n",
    "guesses = list(answer for answer in answers) \n",
    "print(guesses)\n",
    "\n",
    "guesses.extend(list(plate for plate in plates))\n",
    "    \n",
    "random.shuffle(guesses)\n",
    "\n",
    "# print(plates)\n",
    "print(guesses)"
   ]
  },
  {
   "cell_type": "code",
   "execution_count": null,
   "metadata": {
    "collapsed": false
   },
   "outputs": [],
   "source": [
    "# print(searchDictionary(plates, 'HR25 ZRC'))\n",
    "height = int(60*45/71)\n",
    "\n",
    "getPlate(guesses[0], height)"
   ]
  },
  {
   "cell_type": "code",
   "execution_count": null,
   "metadata": {
    "collapsed": false
   },
   "outputs": [],
   "source": [
    "def makeMotionKernel(size=20, orientation=True):\n",
    "    \"\"\"Makes Numpy array for the motion blur kernel\n",
    "    \"\"\"\n",
    "    if int(size/2) == size/2:\n",
    "        size -= 1\n",
    "    \n",
    "    kernel_motion_blur = np.zeros((size, size))\n",
    "    kernel_motion_blur[int((size-1)/2), :] = np.ones(size)\n",
    "    \n",
    "    if orientation == True:\n",
    "        kernel_motion_blur = kernel_motion_blur.T / size\n",
    "        \n",
    "    return kernel_motion_blur\n",
    "\n",
    "plt.imshow(makeMotionKernel(), cmap='gray')\n",
    "plt.show()"
   ]
  },
  {
   "cell_type": "code",
   "execution_count": null,
   "metadata": {
    "collapsed": false
   },
   "outputs": [],
   "source": [
    "height = int(60*45/71)\n",
    "guessPlates = []\n",
    "guessPlates2 = []\n",
    "\n",
    "kernel_size = 15\n",
    "# generating the kernel\n",
    "kernel = makeMotionKernel(size=kernel_size)\n",
    "\n",
    "skip = 3\n",
    "\n",
    "for guess in guesses: guessPlates.append(convolveImages(pil2np(getPlate(guess, height)), kernel=kernel)) # getPlate\n",
    "for guess in guesses: guessPlates2.append(pil2np(getPlate(guess,height)))       # getPlate2\n",
    "    \n",
    "# Initialise containers\n",
    "searchResults, searchResults2 = {}, {}\n",
    "searchResults['scores'] , searchResults['confidence'] , searchResults['answer']  = [], [], []\n",
    "searchResults2['scores'], searchResults2['confidence'], searchResults2['answer'] = [], [], []\n",
    "\n",
    "# Loop though the images\n",
    "for im, answer in zip(ims, answers):\n",
    "    im = pil2np(im)\n",
    "    \n",
    "    # Search though guessPlates\n",
    "    scores, confidence   = RMSMultiSearch(im, guessPlates, skip=skip, names=guesses)\n",
    "    searchResults['scores'].append(scores)\n",
    "    searchResults['confidence'].append(confidence)\n",
    "    searchResults['answer'].append(answer)\n",
    "    \n",
    "    # Search though guessPlates2\n",
    "    scores2, confidence2   = RMSMultiSearch(im, guessPlates2, skip=skip, names=guesses)\n",
    "    searchResults2['scores'].append(scores2)\n",
    "    searchResults2['confidence'].append(confidence2)\n",
    "    searchResults2['answer'].append(answer)"
   ]
  },
  {
   "cell_type": "code",
   "execution_count": null,
   "metadata": {
    "collapsed": false
   },
   "outputs": [],
   "source": [
    "print('              |     SCORE    CONF.    PLATE       SCORE    CONF.   PLATE        SCORE    CONF.   PLATE')\n",
    "print('-'*105)\n",
    "for i,im in enumerate(ims):\n",
    "\n",
    "    # Unpack containers\n",
    "    s = searchResults['scores'][i]\n",
    "    c = searchResults['confidence'][i]*100\n",
    "    a = searchResults['answer'][i]\n",
    "    \n",
    "    s2 = searchResults2['scores'][i]\n",
    "    c2 = searchResults2['confidence'][i]*100\n",
    "    a2 = searchResults2['answer'][i]\n",
    "    \n",
    "    \n",
    "    color = bcolors.OKGREEN if a==s[0][1] else bcolors.FAIL\n",
    "    color2 = bcolors.OKGREEN if a2==s2[0][1] else bcolors.FAIL\n",
    "    line = '#1: {:s}  |  1: {:06.3f}  {:06.3f}  {:s}   2: {:06.3f}  {:06.3f}  {:s}   3: {:06.3f}  {:06.3f}, {:s}'.format(a,s[0][0],c[0],s[0][1],s[1][0],c[1],s[1][1],s[2][0],c[3],s[2][1])\n",
    "    line = color + line + bcolors.ENDC\n",
    "    line2 = '#2: {:s}  |  1: {:06.3f}  {:06.3f}  {:s}   2: {:06.3f}  {:06.3f}  {:s}   3: {:06.3f}  {:06.3f}, {:s}'.format('        ',s2[0][0],c2[0],s2[0][1],s2[1][0],c2[1],s2[1][1],s2[2][0],c2[3],s2[2][1])\n",
    "    line2 = color + line2 + bcolors.ENDC\n",
    "    print(line)\n",
    "    print(line2)\n",
    "    print('-'*105)"
   ]
  },
  {
   "cell_type": "code",
   "execution_count": null,
   "metadata": {
    "collapsed": false
   },
   "outputs": [],
   "source": [
    "for i,im in enumerate(ims):\n",
    "    # Unpack containers\n",
    "    s = searchResults['scores'][i]\n",
    "    c = searchResults['confidence'][i]*100\n",
    "    a = searchResults['answer'][i]\n",
    "    \n",
    "    cmap = plt.cm.Greens_r if a==s[0][1] else plt.cm.Reds_r\n",
    "    plt.imshow(pil2np(ims[i]), cmap=cmap)\n",
    "    plt.title('{:s}  |  1: {:05.2f}, {:s}  Confidence: {:1.3f}'.format(a,s[0][0],s[0][1], c[0]))\n",
    "    plt.show()"
   ]
  },
  {
   "cell_type": "code",
   "execution_count": null,
   "metadata": {
    "collapsed": false,
    "scrolled": true
   },
   "outputs": [],
   "source": [
    "os.path.split(im_dirs[0])[1]"
   ]
  },
  {
   "cell_type": "code",
   "execution_count": null,
   "metadata": {
    "collapsed": false
   },
   "outputs": [],
   "source": [
    "getPlate('adfafd', height=60)"
   ]
  },
  {
   "cell_type": "code",
   "execution_count": null,
   "metadata": {
    "collapsed": true
   },
   "outputs": [],
   "source": []
  }
 ],
 "metadata": {
  "kernelspec": {
   "display_name": "Python 3",
   "language": "python",
   "name": "python3"
  },
  "language_info": {
   "codemirror_mode": {
    "name": "ipython",
    "version": 3
   },
   "file_extension": ".py",
   "mimetype": "text/x-python",
   "name": "python",
   "nbconvert_exporter": "python",
   "pygments_lexer": "ipython3",
   "version": "3.6.0"
  }
 },
 "nbformat": 4,
 "nbformat_minor": 2
}

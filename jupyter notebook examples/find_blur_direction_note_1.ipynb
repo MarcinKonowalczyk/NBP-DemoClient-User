{
 "cells": [
  {
   "cell_type": "code",
   "execution_count": null,
   "metadata": {
    "collapsed": false
   },
   "outputs": [],
   "source": [
    "import os\n",
    "import sys\n",
    "parent = os.path.abspath(os.path.join('./', os.pardir))\n",
    "sys.path.insert(0, parent)\n",
    "\n",
    "from nbp_helper_funs import *\n",
    "from matplotlib import pyplot as plt"
   ]
  },
  {
   "cell_type": "code",
   "execution_count": null,
   "metadata": {
    "collapsed": false
   },
   "outputs": [],
   "source": [
    "directory = os.path.join(parent,'test subset','easy1.jpg')\n",
    "\n",
    "img = Image.open(directory).convert('L')\n",
    "img = cropContourImg(img, pad=20)\n",
    "\n",
    "plt.imshow(img, cmap='gray')\n",
    "plt.show()\n"
   ]
  },
  {
   "cell_type": "code",
   "execution_count": null,
   "metadata": {
    "collapsed": false
   },
   "outputs": [],
   "source": [
    "c = getCorners(img)\n",
    "img = straightenImage(img, c)\n",
    "\n",
    "plt.imshow(img, cmap='gray')\n",
    "plt.show()"
   ]
  },
  {
   "cell_type": "code",
   "execution_count": null,
   "metadata": {
    "collapsed": false
   },
   "outputs": [],
   "source": [
    "img_binarized = binarizeImage(img, threshold=0.5)\n",
    "\n",
    "plt.imshow(img_binarized, cmap='gray')\n",
    "plt.show()"
   ]
  },
  {
   "cell_type": "code",
   "execution_count": null,
   "metadata": {
    "collapsed": false
   },
   "outputs": [],
   "source": [
    "difference = pil2np(img_binarized) - pil2np(img)\n",
    "# difference = np2pil(difference)\n",
    "difference = difference**2\n",
    "\n",
    "plt.imshow(difference)\n",
    "plt.show()\n",
    "\n",
    "difference = np2pil(difference)"
   ]
  },
  {
   "cell_type": "code",
   "execution_count": null,
   "metadata": {
    "collapsed": false
   },
   "outputs": [],
   "source": [
    "difference = difference.filter(ImageFilter.MedianFilter(5))\n",
    "\n",
    "plt.imshow(difference)\n",
    "plt.show()\n",
    "\n",
    "difference = pil2np(difference)"
   ]
  },
  {
   "cell_type": "code",
   "execution_count": null,
   "metadata": {
    "collapsed": false
   },
   "outputs": [],
   "source": [
    "Area = difference.shape[0]**2\n",
    "print(Area)\n",
    "\n",
    "shape_diff = difference.shape\n",
    "\n",
    "print(shape_diff)\n",
    "height, width = shape_diff\n",
    "\n",
    "print(height)\n",
    "mid_points = (height/2, width/2)\n",
    "\n",
    "# buffer is width of the strip to sample\n",
    "buffer = (int(Area/width), int(Area/height))\n",
    "\n",
    "print(buffer)\n",
    "\n",
    "height_area = (int(mid_points[0] - 0.5*buffer[0]), int(mid_points[0] + 0.5*buffer[0]))\n",
    "\n",
    "width_area = (int(mid_points[1] - 0.5*buffer[1]), int(mid_points[1] + 0.5*buffer[1]))\n",
    "\n",
    "print(height_area, width_area)\n",
    "\n"
   ]
  },
  {
   "cell_type": "code",
   "execution_count": null,
   "metadata": {
    "collapsed": false
   },
   "outputs": [],
   "source": [
    "# number of pixels from top bottom and sides\n",
    "buffer = 20\n",
    "\n",
    "top = difference[0:buffer, buffer:-buffer]\n",
    "bottom = difference[-buffer-1:-1, buffer:-buffer]\n",
    "\n",
    "left = difference[buffer: -buffer, 0:buffer]\n",
    "right = difference[buffer: -buffer, -buffer-1:-1]\n",
    "\n",
    "plt.subplot(121)\n",
    "plt.imshow(top)\n",
    "plt.subplot(122)\n",
    "plt.imshow(bottom)\n",
    "\n",
    "plt.show()\n"
   ]
  },
  {
   "cell_type": "code",
   "execution_count": null,
   "metadata": {
    "collapsed": false
   },
   "outputs": [],
   "source": [
    "long_edge = top + bottom\n",
    "short_edge = left + right\n",
    "\n",
    "plt.subplot(121)\n",
    "plt.imshow(long_edge)\n",
    "plt.subplot(122)\n",
    "plt.imshow(short_edge)\n",
    "\n",
    "plt.show()"
   ]
  },
  {
   "cell_type": "code",
   "execution_count": null,
   "metadata": {
    "collapsed": false
   },
   "outputs": [],
   "source": [
    "sum_long_edge = np.sum(long_edge)/np.prod(long_edge.shape)\n",
    "sum_short_edge = np.sum(short_edge)/np.prod(short_edge.shape)\n",
    "\n",
    "print(sum_long_edge, sum_short_edge)\n",
    "\n",
    "non_blur_mean = 0.008\n",
    "\n",
    "Up_blur = sum_long_edge/non_blur_mean - 1 \n",
    "Right_blur = sum_short_edge/non_blur_mean - 1\n",
    "print(Right_blur)\n",
    "\n",
    "print('Long Edge Blur = %d pixels' % Up_blur)\n",
    "print('Short Edge Blur = %d pixels' % Right_blur)"
   ]
  },
  {
   "cell_type": "code",
   "execution_count": null,
   "metadata": {
    "collapsed": false
   },
   "outputs": [],
   "source": [
    "def findPilMotionKernel(size=10, direction=True):\n",
    "    \n",
    "    if int(size/2) == size/2:\n",
    "        size -= 1\n",
    "    \n",
    "    kernel_motion_blur = np.zeros((size, size))\n",
    "    kernel_motion_blur[int((size - 1) / 2), :] = np.ones(size)\n",
    "    \n",
    "    if direction == True:\n",
    "        kernel_motion_blur = kernel_motion_blur.T / size\n",
    "    \n",
    "    return kernel_motion_blur\n",
    "\n",
    "print(findPilMotionKernel().shape)\n",
    "\n",
    "plt.imshow(findPilMotionKernel(), cmap='gray')\n",
    "plt.show()"
   ]
  },
  {
   "cell_type": "code",
   "execution_count": null,
   "metadata": {
    "collapsed": true
   },
   "outputs": [],
   "source": []
  },
  {
   "cell_type": "code",
   "execution_count": null,
   "metadata": {
    "collapsed": true
   },
   "outputs": [],
   "source": []
  }
 ],
 "metadata": {
  "kernelspec": {
   "display_name": "Python 3",
   "language": "python",
   "name": "python3"
  },
  "language_info": {
   "codemirror_mode": {
    "name": "ipython",
    "version": 3
   },
   "file_extension": ".py",
   "mimetype": "text/x-python",
   "name": "python",
   "nbconvert_exporter": "python",
   "pygments_lexer": "ipython3",
   "version": "3.6.0"
  }
 },
 "nbformat": 4,
 "nbformat_minor": 2
}
